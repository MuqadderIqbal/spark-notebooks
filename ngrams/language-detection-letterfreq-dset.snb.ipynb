{
  "metadata" : {
    "id" : "e79a8ecd-3833-4f27-baf7-f9f8f02a451b",
    "name" : "language-detection-letterfreq-dset",
    "user_save_timestamp" : "1970-01-01T01:00:00.000Z",
    "auto_save_timestamp" : "1970-01-01T01:00:00.000Z",
    "language_info" : {
      "name" : "scala",
      "file_extension" : "scala",
      "codemirror_mode" : "text/x-scala"
    },
    "trusted" : true,
    "sparkNotebook" : null,
    "customLocalRepo" : null,
    "customRepos" : null,
    "customDeps" : null,
    "customImports" : null,
    "customArgs" : null,
    "customSparkConf" : null,
    "customVars" : null
  },
  "cells" : [
    {
      "metadata" : {
        "id" : "6D985D5B5E8740F384AA83EDE40A95D2"
      },
      "cell_type" : "markdown",
      "source" : "#Language Classification (Dataset API version)\n###A naive approach to language classification.\nThis notebook explores the language classification problem by looking at the frequency distribution of the characters used in sample text.\nUsing the letter frequency we build simple models that will allow us to classify the language of new sentences.\n\nFor our exploration, we will use a dataset comprised of treaties and other official documents of the European Commission. Those are available in each language spoken in the European Union and hence ideal to have a datasets of equivalent quality for each language."
    },
    {
      "metadata" : {
        "id" : "5A3E909A40B049FE9CB7DCB3383384CE"
      },
      "cell_type" : "markdown",
      "source" : "## First, we will load some sample data and explore the character distribution in order to build up some intuition."
    },
    {
      "metadata" : {
        "trusted" : true,
        "input_collapsed" : false,
        "collapsed" : false,
        "id" : "BFF3A95A5486431F944D5D66AD38CD76"
      },
      "cell_type" : "code",
      "source" : [
        "val notebooksFolder = sys.env(\"NOTEBOOKS_DIR\")\n",
        "val baseFolder = s\"$notebooksFolder/languageclassification/data\""
      ],
      "outputs" : [
        {
          "name" : "stdout",
          "output_type" : "stream",
          "text" : "notebooksFolder: String = /home/maasg/playground/sparkfun/spark-notebooks\nbaseFolder: String = /home/maasg/playground/sparkfun/spark-notebooks/languageclassification/data\n"
        },
        {
          "metadata" : { },
          "data" : {
            "text/html" : ""
          },
          "output_type" : "execute_result",
          "execution_count" : 2,
          "time" : "Took: 0.942s, at 2017-09-25 23:18"
        }
      ]
    },
    {
      "metadata" : {
        "id" : "96C01B8C3B8B4E479E26B6042C3F9BC6"
      },
      "cell_type" : "markdown",
      "source" : "## We import the Implicits  available in the Spark Session\nThey provide helpful transformations for Column operations and implicit evidence for `Encoders` required by `Dataframes` "
    },
    {
      "metadata" : {
        "trusted" : true,
        "input_collapsed" : false,
        "collapsed" : false,
        "id" : "B4F60D06D4F641A6A425E298EE060DDB"
      },
      "cell_type" : "code",
      "source" : [
        "val spark = sparkSession // we need a stable identifier to import the implicits\n",
        "import spark.implicits._"
      ],
      "outputs" : [
        {
          "name" : "stdout",
          "output_type" : "stream",
          "text" : "spark: org.apache.spark.sql.SparkSession = org.apache.spark.sql.SparkSession@2b10db5d\nimport spark.implicits._\n"
        },
        {
          "metadata" : { },
          "data" : {
            "text/html" : ""
          },
          "output_type" : "execute_result",
          "execution_count" : 9,
          "time" : "Took: 1.282s, at 2017-09-25 23:23"
        }
      ]
    },
    {
      "metadata" : {
        "id" : "C9DB899751B54B4886E418E70D116C0F"
      },
      "cell_type" : "markdown",
      "source" : "### We load the english dataset to explore the data"
    },
    {
      "metadata" : {
        "trusted" : true,
        "input_collapsed" : false,
        "collapsed" : false,
        "id" : "2A1476EDDD3344B98FEFF9988DB6786C"
      },
      "cell_type" : "code",
      "source" : [
        "val en = sparkSession.read.textFile(baseFolder + \"/en\")"
      ],
      "outputs" : [
        {
          "name" : "stdout",
          "output_type" : "stream",
          "text" : "en: org.apache.spark.sql.Dataset[String] = [value: string]\n"
        },
        {
          "metadata" : { },
          "data" : {
            "text/html" : ""
          },
          "output_type" : "execute_result",
          "execution_count" : 10,
          "time" : "Took: 0.664s, at 2017-09-25 23:23"
        }
      ]
    },
    {
      "metadata" : {
        "trusted" : true,
        "input_collapsed" : false,
        "collapsed" : false,
        "id" : "1F277142B116423A8D8159D7CE40275B"
      },
      "cell_type" : "code",
      "source" : [
        "en"
      ],
      "outputs" : [
        {
          "name" : "stdout",
          "output_type" : "stream",
          "text" : "res11: org.apache.spark.sql.Dataset[String] = [value: string]\n"
        },
        {
          "metadata" : { },
          "data" : {
            "text/html" : "<div class=\"df-canvas\">\n      <script data-this=\"{&quot;dataId&quot;:&quot;anon404cd448b2fb3e13555e5fdd82316e14&quot;,&quot;partitionIndexId&quot;:&quot;anonbd001e8eab2fa33672f2c24df83b65b6&quot;,&quot;numPartitions&quot;:1310,&quot;dfSchema&quot;:{&quot;type&quot;:&quot;struct&quot;,&quot;fields&quot;:[{&quot;name&quot;:&quot;value&quot;,&quot;type&quot;:&quot;string&quot;,&quot;nullable&quot;:true,&quot;metadata&quot;:{}}]}}\" type=\"text/x-scoped-javascript\">/*<![CDATA[*/req(['../javascripts/notebook/dataframe','../javascripts/notebook/consoleDir'], \n      function(dataframe, extension) {\n        dataframe.call(data, this, extension);\n      }\n    );/*]]>*/</script>\n      <link rel=\"stylesheet\" href=\"/assets/stylesheets/ipython/css/dataframe.css\" type=\"text/css\"/>\n    </div>"
          },
          "output_type" : "execute_result",
          "execution_count" : 11,
          "time" : "Took: 2.799s, at 2017-09-25 23:23"
        }
      ]
    },
    {
      "metadata" : {
        "id" : "2FE75BFDD8AC4136827BDCDFFA4AC5E0"
      },
      "cell_type" : "markdown",
      "source" : "### And we clean up the text from characters other than letters"
    },
    {
      "metadata" : {
        "trusted" : true,
        "input_collapsed" : false,
        "collapsed" : false,
        "id" : "41A6E9AA80E24EA2868949ECC6878BFD"
      },
      "cell_type" : "code",
      "source" : [
        "import java.lang.Character\n",
        "val cleanedLetters = en.flatMap(str => str.filter(ch => Character.isAlphabetic(ch)).map(ch => Character.toLowerCase(ch).toString))"
      ],
      "outputs" : [
        {
          "name" : "stdout",
          "output_type" : "stream",
          "text" : "import java.lang.Character\ncleanedLetters: org.apache.spark.sql.Dataset[String] = [value: string]\n"
        },
        {
          "metadata" : { },
          "data" : {
            "text/html" : ""
          },
          "output_type" : "execute_result",
          "execution_count" : 14,
          "time" : "Took: 0.790s, at 2017-09-25 23:30"
        }
      ]
    },
    {
      "metadata" : {
        "trusted" : true,
        "input_collapsed" : false,
        "collapsed" : false,
        "id" : "03F306F3592C424E9138CD8A70829A7A"
      },
      "cell_type" : "code",
      "source" : [
        "cleanedLetters"
      ],
      "outputs" : [
        {
          "name" : "stdout",
          "output_type" : "stream",
          "text" : "res17: org.apache.spark.sql.Dataset[String] = [value: string]\n"
        },
        {
          "metadata" : { },
          "data" : {
            "text/html" : "<div class=\"df-canvas\">\n      <script data-this=\"{&quot;dataId&quot;:&quot;anon2ee23bb671f2119b398b59c949c049b4&quot;,&quot;partitionIndexId&quot;:&quot;anona9fa9633e2d25dcd7d3d160dcfda8b24&quot;,&quot;numPartitions&quot;:66833,&quot;dfSchema&quot;:{&quot;type&quot;:&quot;struct&quot;,&quot;fields&quot;:[{&quot;name&quot;:&quot;value&quot;,&quot;type&quot;:&quot;string&quot;,&quot;nullable&quot;:true,&quot;metadata&quot;:{}}]}}\" type=\"text/x-scoped-javascript\">/*<![CDATA[*/req(['../javascripts/notebook/dataframe','../javascripts/notebook/consoleDir'], \n      function(dataframe, extension) {\n        dataframe.call(data, this, extension);\n      }\n    );/*]]>*/</script>\n      <link rel=\"stylesheet\" href=\"/assets/stylesheets/ipython/css/dataframe.css\" type=\"text/css\"/>\n    </div>"
          },
          "output_type" : "execute_result",
          "execution_count" : 15,
          "time" : "Took: 2.373s, at 2017-09-25 23:30"
        }
      ]
    },
    {
      "metadata" : {
        "id" : "36CCEBEC50724BC79349061B101C76D2"
      },
      "cell_type" : "markdown",
      "source" : "### We count the total of characters in our dataset\nWe will need this later to obtain relative frequency values"
    },
    {
      "metadata" : {
        "trusted" : true,
        "input_collapsed" : false,
        "collapsed" : false,
        "id" : "DD4F41176D2B4EEFAE850DB5AF815579"
      },
      "cell_type" : "code",
      "source" : [
        "val total = cleanedLetters.count()"
      ],
      "outputs" : [
        {
          "name" : "stdout",
          "output_type" : "stream",
          "text" : "total: Long = 1670805\n"
        },
        {
          "metadata" : { },
          "data" : {
            "text/html" : ""
          },
          "output_type" : "execute_result",
          "execution_count" : 16,
          "time" : "Took: 1.109s, at 2017-09-25 23:30"
        }
      ]
    },
    {
      "metadata" : {
        "id" : "68E13860F02440D29757330CC1EF7AD2"
      },
      "cell_type" : "markdown",
      "source" : "### ...and the frequency of each alphabetic character in the dataset\nNote that the frequency is relative to the total count - this will enable us to compare different languages later on\nHere is where the `Dataset` API and it's SQL-like dialect turns out to be very handy to use.\n\nAs a reminder, this is what it looks like in the RDD API:\n```\nval freq = cleanedLetters.keyBy(char => char.toString.toLowerCase).countByKey.map{case (k,v) => (k.toString, v.toDouble/total)}\nval freqOrdered = freq.toList.sortBy{case (k,v)=> k}\n```"
    },
    {
      "metadata" : {
        "trusted" : true,
        "input_collapsed" : false,
        "collapsed" : false,
        "id" : "6F6D9275B5E54FFAB770F4418BDF2554"
      },
      "cell_type" : "code",
      "source" : [
        "val freq = cleanedLetters.groupBy($\"value\").agg(count($\"value\")/total as \"freq\").sort($\"value\".asc)\n"
      ],
      "outputs" : [
        {
          "name" : "stdout",
          "output_type" : "stream",
          "text" : "freq: org.apache.spark.sql.Dataset[org.apache.spark.sql.Row] = [value: string, freq: double]\n"
        },
        {
          "metadata" : { },
          "data" : {
            "text/html" : ""
          },
          "output_type" : "execute_result",
          "execution_count" : 27,
          "time" : "Took: 0.584s, at 2017-09-25 23:41"
        }
      ]
    },
    {
      "metadata" : {
        "id" : "6E4B1184392945DAA606D18EF97AC806"
      },
      "cell_type" : "markdown",
      "source" : "### We can now visualize the how the frequency distribution looks like"
    },
    {
      "metadata" : {
        "trusted" : true,
        "input_collapsed" : false,
        "collapsed" : false,
        "presentation" : {
          "tabs_state" : "{\n  \"tab_id\": \"#tab443884594-1\"\n}",
          "pivot_chart_state" : "{\n  \"hiddenAttributes\": [],\n  \"menuLimit\": 200,\n  \"cols\": [],\n  \"rows\": [],\n  \"vals\": [],\n  \"exclusions\": {},\n  \"inclusions\": {},\n  \"unusedAttrsVertical\": 85,\n  \"autoSortUnusedAttrs\": false,\n  \"inclusionsInfo\": {},\n  \"aggregatorName\": \"Count\",\n  \"rendererName\": \"Table\"\n}"
        },
        "id" : "C46268BE6A0D4E1F866D14F4EB18A980"
      },
      "cell_type" : "code",
      "source" : [
        "freq.take(30)"
      ],
      "outputs" : [
        {
          "name" : "stdout",
          "output_type" : "stream",
          "text" : "res33: Array[org.apache.spark.sql.Row] = Array([a,0.07892123856464399], [b,0.013841232220396755], [c,0.04509203647343646], [d,0.030138166931509062], [e,0.12519294591529234], [f,0.026006625548762423], [g,0.014792270791624396], [h,0.044525243819595946], [i,0.08238364141835822], [j,0.002664583838329428], [k,0.002872866672053292], [l,0.040070504936243305], [m,0.024439716184713356], [n,0.07904632796765632], [o,0.08121653933283657], [p,0.025622379631375296], [q,0.0011192209743207616], [r,0.06635484092997088], [s,0.05571326396557348], [t,0.10015710989612792], [u,0.02913805022130051], [v,0.00852882293265821], [w,0.0074197766944676365], [x,0.0023743046016740433], [y,0.011944541702951571], [z,2.1187391706393026E-4], [à,4.189597230077717E-6], [á,1.0174736130188742E-5], [ã,2.3940555600444098E-6], [..."
        },
        {
          "metadata" : { },
          "data" : {
            "text/html" : "<div>\n      <script data-this=\"{&quot;dataId&quot;:&quot;anonb23e621e13bdb7ad0d7b9cc8c4a062d1&quot;,&quot;dataInit&quot;:[],&quot;genId&quot;:&quot;443884594&quot;}\" type=\"text/x-scoped-javascript\">/*<![CDATA[*/req(['../javascripts/notebook/playground','../javascripts/notebook/magic/tabs'], \n      function(playground, _magictabs) {\n        // data ==> data-this (in observable.js's scopedEval) ==> this in JS => { dataId, dataInit, ... }\n        // this ==> scope (in observable.js's scopedEval) ==> this.parentElement ==> div.container below (toHtml)\n\n        playground.call(data,\n                        this\n                        ,\n                        {\n    \"f\": _magictabs,\n    \"o\": {}\n  }\n  \n                        \n                        \n                      );\n      }\n    );/*]]>*/</script>\n    <div>\n      <div>\n        <ul class=\"nav nav-tabs\" id=\"ul443884594\"><li>\n              <a href=\"#tab443884594-0\"><i class=\"fa fa-table\"/></a>\n            </li><li>\n              <a href=\"#tab443884594-1\"><i class=\"fa fa-bar-chart\"/></a>\n            </li><li>\n              <a href=\"#tab443884594-2\"><i class=\"fa fa-pie-chart\"/></a>\n            </li><li>\n              <a href=\"#tab443884594-3\"><i class=\"fa fa-cubes\"/></a>\n            </li></ul>\n\n        <div class=\"tab-content\" id=\"tab443884594\"><div class=\"tab-pane\" id=\"tab443884594-0\">\n            <div>\n      <script data-this=\"{&quot;dataId&quot;:&quot;anondda71ce20514a8c54f203cd896d73e03&quot;,&quot;dataInit&quot;:[{&quot;value&quot;:&quot;a&quot;,&quot;freq&quot;:0.07892123856464399},{&quot;value&quot;:&quot;b&quot;,&quot;freq&quot;:0.013841232220396755},{&quot;value&quot;:&quot;c&quot;,&quot;freq&quot;:0.04509203647343646},{&quot;value&quot;:&quot;d&quot;,&quot;freq&quot;:0.030138166931509062},{&quot;value&quot;:&quot;e&quot;,&quot;freq&quot;:0.12519294591529234},{&quot;value&quot;:&quot;f&quot;,&quot;freq&quot;:0.026006625548762423},{&quot;value&quot;:&quot;g&quot;,&quot;freq&quot;:0.014792270791624396},{&quot;value&quot;:&quot;h&quot;,&quot;freq&quot;:0.044525243819595946},{&quot;value&quot;:&quot;i&quot;,&quot;freq&quot;:0.08238364141835822},{&quot;value&quot;:&quot;j&quot;,&quot;freq&quot;:0.002664583838329428},{&quot;value&quot;:&quot;k&quot;,&quot;freq&quot;:0.002872866672053292},{&quot;value&quot;:&quot;l&quot;,&quot;freq&quot;:0.040070504936243305},{&quot;value&quot;:&quot;m&quot;,&quot;freq&quot;:0.024439716184713356},{&quot;value&quot;:&quot;n&quot;,&quot;freq&quot;:0.07904632796765632},{&quot;value&quot;:&quot;o&quot;,&quot;freq&quot;:0.08121653933283657},{&quot;value&quot;:&quot;p&quot;,&quot;freq&quot;:0.025622379631375296},{&quot;value&quot;:&quot;q&quot;,&quot;freq&quot;:0.0011192209743207616},{&quot;value&quot;:&quot;r&quot;,&quot;freq&quot;:0.06635484092997088},{&quot;value&quot;:&quot;s&quot;,&quot;freq&quot;:0.05571326396557348},{&quot;value&quot;:&quot;t&quot;,&quot;freq&quot;:0.10015710989612792},{&quot;value&quot;:&quot;u&quot;,&quot;freq&quot;:0.02913805022130051},{&quot;value&quot;:&quot;v&quot;,&quot;freq&quot;:0.00852882293265821},{&quot;value&quot;:&quot;w&quot;,&quot;freq&quot;:0.0074197766944676365},{&quot;value&quot;:&quot;x&quot;,&quot;freq&quot;:0.0023743046016740433},{&quot;value&quot;:&quot;y&quot;,&quot;freq&quot;:0.011944541702951571},{&quot;value&quot;:&quot;z&quot;,&quot;freq&quot;:0.00021187391706393026},{&quot;value&quot;:&quot;à&quot;,&quot;freq&quot;:0.000004189597230077717},{&quot;value&quot;:&quot;á&quot;,&quot;freq&quot;:0.000010174736130188742},{&quot;value&quot;:&quot;ã&quot;,&quot;freq&quot;:0.0000023940555600444098},{&quot;value&quot;:&quot;ä&quot;,&quot;freq&quot;:0.000004189597230077717}],&quot;genId&quot;:&quot;1704105047&quot;}\" type=\"text/x-scoped-javascript\">/*<![CDATA[*/req(['../javascripts/notebook/playground','../javascripts/notebook/magic/tableChart'], \n      function(playground, _magictableChart) {\n        // data ==> data-this (in observable.js's scopedEval) ==> this in JS => { dataId, dataInit, ... }\n        // this ==> scope (in observable.js's scopedEval) ==> this.parentElement ==> div.container below (toHtml)\n\n        playground.call(data,\n                        this\n                        ,\n                        {\n    \"f\": _magictableChart,\n    \"o\": {\"headers\":[\"value\",\"freq\"],\"width\":600,\"height\":400}\n  }\n  \n                        \n                        \n                      );\n      }\n    );/*]]>*/</script>\n    <div>\n      <span class=\"chart-total-item-count\"><p data-bind=\"text: value\"><script data-this=\"{&quot;valueId&quot;:&quot;anon12a09d1f1dfed9d0ec566e122376f958&quot;,&quot;initialValue&quot;:&quot;30&quot;}\" type=\"text/x-scoped-javascript\">/*<![CDATA[*/\nreq(\n['observable', 'knockout'],\nfunction (O, ko) {\n  ko.applyBindings({\n      value: O.makeObservable(valueId, initialValue)\n    },\n    this\n  );\n});\n        /*]]>*/</script></p> entries total</span>\n      <span class=\"chart-sampling-warning\"><p data-bind=\"text: value\"><script data-this=\"{&quot;valueId&quot;:&quot;anon0a319135265027161fac9f76046bb53f&quot;,&quot;initialValue&quot;:&quot;&quot;}\" type=\"text/x-scoped-javascript\">/*<![CDATA[*/\nreq(\n['observable', 'knockout'],\nfunction (O, ko) {\n  ko.applyBindings({\n      value: O.makeObservable(valueId, initialValue)\n    },\n    this\n  );\n});\n        /*]]>*/</script></p></span>\n      <div>\n      </div>\n    </div></div>\n            </div><div class=\"tab-pane\" id=\"tab443884594-1\">\n            <div>\n      <script data-this=\"{&quot;dataId&quot;:&quot;anon9276663e2eb7524fd495e87323b6433f&quot;,&quot;dataInit&quot;:[{&quot;value&quot;:&quot;a&quot;,&quot;freq&quot;:0.07892123856464399},{&quot;value&quot;:&quot;b&quot;,&quot;freq&quot;:0.013841232220396755},{&quot;value&quot;:&quot;c&quot;,&quot;freq&quot;:0.04509203647343646},{&quot;value&quot;:&quot;d&quot;,&quot;freq&quot;:0.030138166931509062},{&quot;value&quot;:&quot;e&quot;,&quot;freq&quot;:0.12519294591529234},{&quot;value&quot;:&quot;f&quot;,&quot;freq&quot;:0.026006625548762423},{&quot;value&quot;:&quot;g&quot;,&quot;freq&quot;:0.014792270791624396},{&quot;value&quot;:&quot;h&quot;,&quot;freq&quot;:0.044525243819595946},{&quot;value&quot;:&quot;i&quot;,&quot;freq&quot;:0.08238364141835822},{&quot;value&quot;:&quot;j&quot;,&quot;freq&quot;:0.002664583838329428},{&quot;value&quot;:&quot;k&quot;,&quot;freq&quot;:0.002872866672053292},{&quot;value&quot;:&quot;l&quot;,&quot;freq&quot;:0.040070504936243305},{&quot;value&quot;:&quot;m&quot;,&quot;freq&quot;:0.024439716184713356},{&quot;value&quot;:&quot;n&quot;,&quot;freq&quot;:0.07904632796765632},{&quot;value&quot;:&quot;o&quot;,&quot;freq&quot;:0.08121653933283657},{&quot;value&quot;:&quot;p&quot;,&quot;freq&quot;:0.025622379631375296},{&quot;value&quot;:&quot;q&quot;,&quot;freq&quot;:0.0011192209743207616},{&quot;value&quot;:&quot;r&quot;,&quot;freq&quot;:0.06635484092997088},{&quot;value&quot;:&quot;s&quot;,&quot;freq&quot;:0.05571326396557348},{&quot;value&quot;:&quot;t&quot;,&quot;freq&quot;:0.10015710989612792},{&quot;value&quot;:&quot;u&quot;,&quot;freq&quot;:0.02913805022130051},{&quot;value&quot;:&quot;v&quot;,&quot;freq&quot;:0.00852882293265821},{&quot;value&quot;:&quot;w&quot;,&quot;freq&quot;:0.0074197766944676365},{&quot;value&quot;:&quot;x&quot;,&quot;freq&quot;:0.0023743046016740433},{&quot;value&quot;:&quot;y&quot;,&quot;freq&quot;:0.011944541702951571},{&quot;value&quot;:&quot;z&quot;,&quot;freq&quot;:0.00021187391706393026},{&quot;value&quot;:&quot;à&quot;,&quot;freq&quot;:0.000004189597230077717},{&quot;value&quot;:&quot;á&quot;,&quot;freq&quot;:0.000010174736130188742},{&quot;value&quot;:&quot;ã&quot;,&quot;freq&quot;:0.0000023940555600444098},{&quot;value&quot;:&quot;ä&quot;,&quot;freq&quot;:0.000004189597230077717}],&quot;genId&quot;:&quot;581943591&quot;}\" type=\"text/x-scoped-javascript\">/*<![CDATA[*/req(['../javascripts/notebook/playground','../javascripts/notebook/magic/barChart'], \n      function(playground, _magicbarChart) {\n        // data ==> data-this (in observable.js's scopedEval) ==> this in JS => { dataId, dataInit, ... }\n        // this ==> scope (in observable.js's scopedEval) ==> this.parentElement ==> div.container below (toHtml)\n\n        playground.call(data,\n                        this\n                        ,\n                        {\n    \"f\": _magicbarChart,\n    \"o\": {\"x\":\"value\",\"y\":\"freq\",\"width\":600,\"height\":400}\n  }\n  \n                        \n                        \n                      );\n      }\n    );/*]]>*/</script>\n    <div>\n      <span class=\"chart-total-item-count\"><p data-bind=\"text: value\"><script data-this=\"{&quot;valueId&quot;:&quot;anonbe691707258f1bb79cdab18f5340293d&quot;,&quot;initialValue&quot;:&quot;30&quot;}\" type=\"text/x-scoped-javascript\">/*<![CDATA[*/\nreq(\n['observable', 'knockout'],\nfunction (O, ko) {\n  ko.applyBindings({\n      value: O.makeObservable(valueId, initialValue)\n    },\n    this\n  );\n});\n        /*]]>*/</script></p> entries total</span>\n      <span class=\"chart-sampling-warning\"><p data-bind=\"text: value\"><script data-this=\"{&quot;valueId&quot;:&quot;anonc7b6518b59d252853c3e15f3470cc3dd&quot;,&quot;initialValue&quot;:&quot;&quot;}\" type=\"text/x-scoped-javascript\">/*<![CDATA[*/\nreq(\n['observable', 'knockout'],\nfunction (O, ko) {\n  ko.applyBindings({\n      value: O.makeObservable(valueId, initialValue)\n    },\n    this\n  );\n});\n        /*]]>*/</script></p></span>\n      <div>\n      </div>\n    </div></div>\n            </div><div class=\"tab-pane\" id=\"tab443884594-2\">\n            <div>\n      <script data-this=\"{&quot;dataId&quot;:&quot;anonc483f936b5725278a343131010a8f821&quot;,&quot;dataInit&quot;:[{&quot;value&quot;:&quot;a&quot;,&quot;freq&quot;:0.07892123856464399},{&quot;value&quot;:&quot;b&quot;,&quot;freq&quot;:0.013841232220396755},{&quot;value&quot;:&quot;c&quot;,&quot;freq&quot;:0.04509203647343646},{&quot;value&quot;:&quot;d&quot;,&quot;freq&quot;:0.030138166931509062},{&quot;value&quot;:&quot;e&quot;,&quot;freq&quot;:0.12519294591529234},{&quot;value&quot;:&quot;f&quot;,&quot;freq&quot;:0.026006625548762423},{&quot;value&quot;:&quot;g&quot;,&quot;freq&quot;:0.014792270791624396},{&quot;value&quot;:&quot;h&quot;,&quot;freq&quot;:0.044525243819595946},{&quot;value&quot;:&quot;i&quot;,&quot;freq&quot;:0.08238364141835822},{&quot;value&quot;:&quot;j&quot;,&quot;freq&quot;:0.002664583838329428},{&quot;value&quot;:&quot;k&quot;,&quot;freq&quot;:0.002872866672053292},{&quot;value&quot;:&quot;l&quot;,&quot;freq&quot;:0.040070504936243305},{&quot;value&quot;:&quot;m&quot;,&quot;freq&quot;:0.024439716184713356},{&quot;value&quot;:&quot;n&quot;,&quot;freq&quot;:0.07904632796765632},{&quot;value&quot;:&quot;o&quot;,&quot;freq&quot;:0.08121653933283657},{&quot;value&quot;:&quot;p&quot;,&quot;freq&quot;:0.025622379631375296},{&quot;value&quot;:&quot;q&quot;,&quot;freq&quot;:0.0011192209743207616},{&quot;value&quot;:&quot;r&quot;,&quot;freq&quot;:0.06635484092997088},{&quot;value&quot;:&quot;s&quot;,&quot;freq&quot;:0.05571326396557348},{&quot;value&quot;:&quot;t&quot;,&quot;freq&quot;:0.10015710989612792},{&quot;value&quot;:&quot;u&quot;,&quot;freq&quot;:0.02913805022130051},{&quot;value&quot;:&quot;v&quot;,&quot;freq&quot;:0.00852882293265821},{&quot;value&quot;:&quot;w&quot;,&quot;freq&quot;:0.0074197766944676365},{&quot;value&quot;:&quot;x&quot;,&quot;freq&quot;:0.0023743046016740433},{&quot;value&quot;:&quot;y&quot;,&quot;freq&quot;:0.011944541702951571},{&quot;value&quot;:&quot;z&quot;,&quot;freq&quot;:0.00021187391706393026},{&quot;value&quot;:&quot;à&quot;,&quot;freq&quot;:0.000004189597230077717},{&quot;value&quot;:&quot;á&quot;,&quot;freq&quot;:0.000010174736130188742},{&quot;value&quot;:&quot;ã&quot;,&quot;freq&quot;:0.0000023940555600444098},{&quot;value&quot;:&quot;ä&quot;,&quot;freq&quot;:0.000004189597230077717}],&quot;genId&quot;:&quot;1095405486&quot;}\" type=\"text/x-scoped-javascript\">/*<![CDATA[*/req(['../javascripts/notebook/playground','../javascripts/notebook/magic/pieChart'], \n      function(playground, _magicpieChart) {\n        // data ==> data-this (in observable.js's scopedEval) ==> this in JS => { dataId, dataInit, ... }\n        // this ==> scope (in observable.js's scopedEval) ==> this.parentElement ==> div.container below (toHtml)\n\n        playground.call(data,\n                        this\n                        ,\n                        {\n    \"f\": _magicpieChart,\n    \"o\": {\"series\":\"value\",\"p\":\"freq\",\"width\":600,\"height\":400}\n  }\n  \n                        \n                        \n                      );\n      }\n    );/*]]>*/</script>\n    <div>\n      <span class=\"chart-total-item-count\"><p data-bind=\"text: value\"><script data-this=\"{&quot;valueId&quot;:&quot;anone3192b486f505dfde1adb5fe2096306b&quot;,&quot;initialValue&quot;:&quot;30&quot;}\" type=\"text/x-scoped-javascript\">/*<![CDATA[*/\nreq(\n['observable', 'knockout'],\nfunction (O, ko) {\n  ko.applyBindings({\n      value: O.makeObservable(valueId, initialValue)\n    },\n    this\n  );\n});\n        /*]]>*/</script></p> entries total</span>\n      <span class=\"chart-sampling-warning\"><p data-bind=\"text: value\"><script data-this=\"{&quot;valueId&quot;:&quot;anone00c61468856115e28e6fb9f994fa52d&quot;,&quot;initialValue&quot;:&quot;&quot;}\" type=\"text/x-scoped-javascript\">/*<![CDATA[*/\nreq(\n['observable', 'knockout'],\nfunction (O, ko) {\n  ko.applyBindings({\n      value: O.makeObservable(valueId, initialValue)\n    },\n    this\n  );\n});\n        /*]]>*/</script></p></span>\n      <div>\n      </div>\n    </div></div>\n            </div><div class=\"tab-pane\" id=\"tab443884594-3\">\n            <div>\n      <script data-this=\"{&quot;dataId&quot;:&quot;anond79cbdab7761913cfd956f25e12ad3cb&quot;,&quot;dataInit&quot;:[{&quot;value&quot;:&quot;a&quot;,&quot;freq&quot;:0.07892123856464399},{&quot;value&quot;:&quot;b&quot;,&quot;freq&quot;:0.013841232220396755},{&quot;value&quot;:&quot;c&quot;,&quot;freq&quot;:0.04509203647343646},{&quot;value&quot;:&quot;d&quot;,&quot;freq&quot;:0.030138166931509062},{&quot;value&quot;:&quot;e&quot;,&quot;freq&quot;:0.12519294591529234},{&quot;value&quot;:&quot;f&quot;,&quot;freq&quot;:0.026006625548762423},{&quot;value&quot;:&quot;g&quot;,&quot;freq&quot;:0.014792270791624396},{&quot;value&quot;:&quot;h&quot;,&quot;freq&quot;:0.044525243819595946},{&quot;value&quot;:&quot;i&quot;,&quot;freq&quot;:0.08238364141835822},{&quot;value&quot;:&quot;j&quot;,&quot;freq&quot;:0.002664583838329428},{&quot;value&quot;:&quot;k&quot;,&quot;freq&quot;:0.002872866672053292},{&quot;value&quot;:&quot;l&quot;,&quot;freq&quot;:0.040070504936243305},{&quot;value&quot;:&quot;m&quot;,&quot;freq&quot;:0.024439716184713356},{&quot;value&quot;:&quot;n&quot;,&quot;freq&quot;:0.07904632796765632},{&quot;value&quot;:&quot;o&quot;,&quot;freq&quot;:0.08121653933283657},{&quot;value&quot;:&quot;p&quot;,&quot;freq&quot;:0.025622379631375296},{&quot;value&quot;:&quot;q&quot;,&quot;freq&quot;:0.0011192209743207616},{&quot;value&quot;:&quot;r&quot;,&quot;freq&quot;:0.06635484092997088},{&quot;value&quot;:&quot;s&quot;,&quot;freq&quot;:0.05571326396557348},{&quot;value&quot;:&quot;t&quot;,&quot;freq&quot;:0.10015710989612792},{&quot;value&quot;:&quot;u&quot;,&quot;freq&quot;:0.02913805022130051},{&quot;value&quot;:&quot;v&quot;,&quot;freq&quot;:0.00852882293265821},{&quot;value&quot;:&quot;w&quot;,&quot;freq&quot;:0.0074197766944676365},{&quot;value&quot;:&quot;x&quot;,&quot;freq&quot;:0.0023743046016740433},{&quot;value&quot;:&quot;y&quot;,&quot;freq&quot;:0.011944541702951571},{&quot;value&quot;:&quot;z&quot;,&quot;freq&quot;:0.00021187391706393026},{&quot;value&quot;:&quot;à&quot;,&quot;freq&quot;:0.000004189597230077717},{&quot;value&quot;:&quot;á&quot;,&quot;freq&quot;:0.000010174736130188742},{&quot;value&quot;:&quot;ã&quot;,&quot;freq&quot;:0.0000023940555600444098},{&quot;value&quot;:&quot;ä&quot;,&quot;freq&quot;:0.000004189597230077717}],&quot;genId&quot;:&quot;355097256&quot;}\" type=\"text/x-scoped-javascript\">/*<![CDATA[*/req(['../javascripts/notebook/playground','../javascripts/notebook/magic/pivotChart'], \n      function(playground, _magicpivotChart) {\n        // data ==> data-this (in observable.js's scopedEval) ==> this in JS => { dataId, dataInit, ... }\n        // this ==> scope (in observable.js's scopedEval) ==> this.parentElement ==> div.container below (toHtml)\n\n        playground.call(data,\n                        this\n                        ,\n                        {\n    \"f\": _magicpivotChart,\n    \"o\": {\"width\":600,\"height\":400,\"derivedAttributes\":{},\"extraOptions\":{}}\n  }\n  \n                        \n                        \n                      );\n      }\n    );/*]]>*/</script>\n    <div>\n      <span class=\"chart-total-item-count\"><p data-bind=\"text: value\"><script data-this=\"{&quot;valueId&quot;:&quot;anon174a7b7f29f1d028284cc7bb27af6ecc&quot;,&quot;initialValue&quot;:&quot;30&quot;}\" type=\"text/x-scoped-javascript\">/*<![CDATA[*/\nreq(\n['observable', 'knockout'],\nfunction (O, ko) {\n  ko.applyBindings({\n      value: O.makeObservable(valueId, initialValue)\n    },\n    this\n  );\n});\n        /*]]>*/</script></p> entries total</span>\n      <span class=\"chart-sampling-warning\"><p data-bind=\"text: value\"><script data-this=\"{&quot;valueId&quot;:&quot;anon909ebb43915973ad0ee3e5a438580a13&quot;,&quot;initialValue&quot;:&quot;&quot;}\" type=\"text/x-scoped-javascript\">/*<![CDATA[*/\nreq(\n['observable', 'knockout'],\nfunction (O, ko) {\n  ko.applyBindings({\n      value: O.makeObservable(valueId, initialValue)\n    },\n    this\n  );\n});\n        /*]]>*/</script></p></span>\n      <div>\n      </div>\n    </div></div>\n            </div></div>\n      </div>\n    </div></div>"
          },
          "output_type" : "execute_result",
          "execution_count" : 28,
          "time" : "Took: 1.481s, at 2017-09-25 23:41"
        }
      ]
    }
  ],
  "nbformat" : 4
}